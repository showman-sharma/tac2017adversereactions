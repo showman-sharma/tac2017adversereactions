{
 "cells": [
  {
   "cell_type": "code",
   "execution_count": 1,
   "id": "02cdb161",
   "metadata": {},
   "outputs": [
    {
     "name": "stdout",
     "output_type": "stream",
     "text": [
      "Example 1\n",
      "  Assistant STATUS: True\n",
      "  Gold ADR_list: []\n",
      "  Gold label (True if ADR_list non-empty): False\n",
      "  Prediction correct? False\n",
      "----------------------------------------\n",
      "Example 2\n",
      "  Assistant STATUS: True\n",
      "  Gold ADR_list: []\n",
      "  Gold label (True if ADR_list non-empty): False\n",
      "  Prediction correct? False\n",
      "----------------------------------------\n",
      "Example 3\n",
      "  Assistant STATUS: True\n",
      "  Gold ADR_list: []\n",
      "  Gold label (True if ADR_list non-empty): False\n",
      "  Prediction correct? False\n",
      "----------------------------------------\n"
     ]
    }
   ],
   "source": [
    "# Extract STATUS from nested assistant message content (stringified JSON) for first 3 examples\n",
    "import json\n",
    "\n",
    "with open('tac_outputs_test.jsonl', 'r', encoding='utf-8') as f_pred, open('tac2017_adrs_test.jsonl', 'r', encoding='utf-8') as f_gold:\n",
    "    for i, (pred_line, gold_line) in enumerate(zip(f_pred, f_gold)):\n",
    "        pred_obj = json.loads(pred_line)\n",
    "        gold_obj = json.loads(gold_line)\n",
    "        # Find assistant message\n",
    "        status = None\n",
    "        for msg in pred_obj.get('messages', []):\n",
    "            if msg.get('role') == 'assistant':\n",
    "                try:\n",
    "                    content_json = json.loads(msg['content'])\n",
    "                    status = content_json.get('STATUS', None)\n",
    "                except Exception as e:\n",
    "                    status = f\"ERROR: {e}\"\n",
    "                break\n",
    "        gold_adr_list = gold_obj.get('ADR_list', [])\n",
    "        gold_label = bool(gold_adr_list)\n",
    "        print(f\"Example {i+1}\")\n",
    "        print(f\"  Assistant STATUS: {status}\")\n",
    "        print(f\"  Gold ADR_list: {gold_adr_list}\")\n",
    "        print(f\"  Gold label (True if ADR_list non-empty): {gold_label}\")\n",
    "        print(f\"  Prediction correct? {status == gold_label}\")\n",
    "        print('-'*40)\n",
    "        if i >= 2:\n",
    "            break"
   ]
  },
  {
   "cell_type": "code",
   "execution_count": 3,
   "id": "36c3abe7",
   "metadata": {},
   "outputs": [
    {
     "name": "stdout",
     "output_type": "stream",
     "text": [
      "Total examples: 11\n",
      "Accuracy:  0.0000\n",
      "Precision: 0.0000\n",
      "Recall:    0.0000\n",
      "F1-score:  0.0000\n"
     ]
    }
   ],
   "source": [
    "# Complete evaluation: extract STATUS from assistant message, compare to gold, compute metrics\n",
    "import json\n",
    "\n",
    "def extract_statuses_and_gold(pred_path, gold_path):\n",
    "    pred_statuses = []\n",
    "    gold_labels = []\n",
    "    with open(pred_path, 'r', encoding='utf-8') as f_pred, open(gold_path, 'r', encoding='utf-8') as f_gold:\n",
    "        for pred_line, gold_line in zip(f_pred, f_gold):\n",
    "            pred_obj = json.loads(pred_line)\n",
    "            gold_obj = json.loads(gold_line)\n",
    "            # Find assistant message\n",
    "            status = None\n",
    "            for msg in pred_obj.get('messages', []):\n",
    "                if msg.get('role') == 'assistant':\n",
    "                    try:\n",
    "                        content_json = json.loads(msg['content'])\n",
    "                        status = content_json.get('STATUS', None)\n",
    "                    except Exception:\n",
    "                        status = None\n",
    "                    break\n",
    "            pred_statuses.append(bool(status))\n",
    "            gold_adr_list = gold_obj.get('ADR_list', [])\n",
    "            gold_label = bool(gold_adr_list)\n",
    "            gold_labels.append(gold_label)\n",
    "    return pred_statuses, gold_labels\n",
    "\n",
    "# Paths\n",
    "pred_path = 'tac_outputs_test.jsonl'\n",
    "gold_path = 'tac2017_adrs_test.jsonl'\n",
    "\n",
    "pred_statuses, gold_labels = extract_statuses_and_gold(pred_path, gold_path)\n",
    "\n",
    "# Metrics\n",
    "TP = sum(p and g for p, g in zip(pred_statuses, gold_labels))\n",
    "TN = sum((not p) and (not g) for p, g in zip(pred_statuses, gold_labels))\n",
    "FP = sum(p and (not g) for p, g in zip(pred_statuses, gold_labels))\n",
    "FN = sum((not p) and g for p, g in zip(pred_statuses, gold_labels))\n",
    "\n",
    "precision = TP / (TP + FP) if (TP + FP) else 0.0\n",
    "recall = TP / (TP + FN) if (TP + FN) else 0.0\n",
    "f1 = 2 * precision * recall / (precision + recall) if (precision + recall) else 0.0\n",
    "accuracy = (TP + TN) / len(gold_labels) if gold_labels else 0.0\n",
    "\n",
    "print(f\"Total examples: {len(gold_labels)}\")\n",
    "print(f\"Accuracy:  {accuracy:.4f}\")\n",
    "print(f\"Precision: {precision:.4f}\")\n",
    "print(f\"Recall:    {recall:.4f}\")\n",
    "print(f\"F1-score:  {f1:.4f}\")"
   ]
  }
 ],
 "metadata": {
  "kernelspec": {
   "display_name": "Python 3",
   "language": "python",
   "name": "python3"
  },
  "language_info": {
   "codemirror_mode": {
    "name": "ipython",
    "version": 3
   },
   "file_extension": ".py",
   "mimetype": "text/x-python",
   "name": "python",
   "nbconvert_exporter": "python",
   "pygments_lexer": "ipython3",
   "version": "3.10.11"
  }
 },
 "nbformat": 4,
 "nbformat_minor": 5
}
